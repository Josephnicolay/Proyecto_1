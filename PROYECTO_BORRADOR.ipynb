{
 "cells": [
  {
   "cell_type": "code",
   "execution_count": 3,
   "metadata": {},
   "outputs": [],
   "source": [
    "import numpy as np\n",
    "import matplotlib.pyplot as plt\n",
    "import scipy\n",
    "import scipy.integrate as scp\n",
    "import numpy.linalg as nplin"
   ]
  },
  {
   "cell_type": "code",
   "execution_count": 4,
   "metadata": {},
   "outputs": [
    {
     "name": "stdout",
     "output_type": "stream",
     "text": [
      "\n",
      "Matríz a resolver autovalores:\n",
      "\n",
      " [[ 0.       1.       0.      ...  0.       0.       0.     ]\n",
      " [ 0.      92.28691  1.      ...  0.       0.       0.     ]\n",
      " [ 0.       1.      86.74186 ...  0.       0.       0.     ]\n",
      " ...\n",
      " [ 0.       0.       0.      ... 86.74186  1.       0.     ]\n",
      " [ 0.       0.       0.      ...  1.      92.28691  0.     ]\n",
      " [ 0.       0.       0.      ...  0.       1.       0.     ]]\n",
      "\n",
      "\n",
      " Autovalores de menor a mayor:\n",
      "\n",
      "  [-3.71550e+00 -3.15764e+00 -2.62284e+00 -2.11290e+00 -1.63011e+00\n",
      " -1.17792e+00 -7.58893e-01 -4.01258e-01 -1.44834e-02  0.00000e+00\n",
      "  0.00000e+00  1.02974e-01  7.49861e-01  7.54729e-01  1.69535e+00\n",
      "  1.69540e+00  2.83378e+00  2.83378e+00  4.15355e+00  4.15355e+00\n",
      "  5.64894e+00  5.64894e+00  7.31706e+00  7.31706e+00  9.15631e+00\n",
      "  9.15631e+00  1.11657e+01  1.11657e+01  1.33447e+01  1.33447e+01\n",
      "  1.56927e+01  1.56927e+01  1.82097e+01  1.82097e+01  2.08952e+01\n",
      "  2.08952e+01  2.37493e+01  2.37493e+01  2.67719e+01  2.67719e+01\n",
      "  2.99627e+01  2.99627e+01  3.33219e+01  3.33219e+01  3.68493e+01\n",
      "  3.68493e+01  4.05448e+01  4.05448e+01  4.44086e+01  4.44086e+01\n",
      "  4.84405e+01  4.84405e+01  5.26405e+01  5.26405e+01  5.70087e+01\n",
      "  5.70087e+01  6.15449e+01  6.15449e+01  6.62493e+01  6.62493e+01\n",
      "  7.11217e+01  7.11217e+01  7.61622e+01  7.61622e+01  8.13709e+01\n",
      "  8.13709e+01  8.67503e+01  8.67503e+01  9.24645e+01  9.24645e+01]\n",
      "\n",
      "\n",
      "Los cuatro primeros autovalores son:\n",
      "\n",
      " [0.74986 1.69535 2.83378 4.15355]\n"
     ]
    }
   ],
   "source": [
    "# Cálculo de los autovalores por el método de Numerov\n",
    "\n",
    "# Arreglo de puntos sobre el eje x en donde se calcula la solución. Discretización del espacio.\n",
    "xarray = np.linspace(-10,10,70)\n",
    "N = len(xarray)\n",
    "\n",
    "# Potencial\n",
    "V_0 = (xarray)**2\n",
    "\n",
    "# Método Numerov\n",
    "x = np.eye(N,N,1)\n",
    "y = np.eye(N,N,-1)\n",
    "z = -2*np.eye(N,N)\n",
    "w = V_0*np.eye(N,N)\n",
    "w = x+y+z+w\n",
    "\n",
    "# Se considera la condición de frontera en la función de onda en el infinito\n",
    "w[:,0] = 0\n",
    "w[:,N-1] = 0\n",
    "\n",
    "# Matríz a resolver autovalores\n",
    "np.set_printoptions(precision = 5)\n",
    "print(\"\\nMatríz a resolver autovalores:\\n\\n\",w)\n",
    "\n",
    "# Arreglo de autovalores\n",
    "eigval = np.sort(nplin.eig(w)[0]) \n",
    "print('\\n\\n Autovalores de menor a mayor:\\n\\n ',eigval)\n",
    "\n",
    "\n",
    "# Considerando solamente los 4 positivos más pequeños\n",
    "eigval4 = []\n",
    "\n",
    "for i in range(0,len(eigval)):\n",
    "    if eigval[2*i]>0:\n",
    "        eigval4.append(eigval[2*i])\n",
    "        \n",
    "    if len(eigval4) == 4:\n",
    "        eigval4 = np.array(eigval4)\n",
    "        break\n",
    "\n",
    "print(\"\\n\\nLos cuatro primeros autovalores son:\\n\\n\", eigval4)"
   ]
  },
  {
   "cell_type": "code",
   "execution_count": null,
   "metadata": {},
   "outputs": [],
   "source": []
  },
  {
   "cell_type": "code",
   "execution_count": 9,
   "metadata": {},
   "outputs": [],
   "source": [
    "def Schrodinger(x,y):                                    \n",
    "    return np.vstack([y[1], (eigval4[0]-x**2)*y[0]])\n",
    "\n",
    "\n",
    "def bc(ya, yb):\n",
    "    return np.array([ya[0], yb[0]])"
   ]
  },
  {
   "cell_type": "code",
   "execution_count": 10,
   "metadata": {},
   "outputs": [
    {
     "name": "stdout",
     "output_type": "stream",
     "text": [
      "[[0.001 0.001 0.001 0.001 0.001 0.001 0.001 0.001 0.001 0.001 0.001 0.001\n",
      "  0.001 0.001 0.001 0.001 0.001 0.001 0.001 0.001 0.001 0.001 0.001 0.001\n",
      "  0.001 0.001 0.001 0.001 0.001 0.001 0.001 0.001 0.001 0.001 0.001 0.001\n",
      "  0.001 0.001 0.001 0.001 0.001 0.001 0.001 0.001 0.001 0.001 0.001 0.001\n",
      "  0.001 0.001 0.001 0.001 0.001 0.001 0.001 0.001 0.001 0.001 0.001 0.001\n",
      "  0.001 0.001 0.001 0.001 0.001 0.001 0.001 0.001 0.001 0.001 0.001 0.001\n",
      "  0.001 0.001 0.001 0.001 0.001 0.001 0.001 0.001 0.001 0.001 0.001 0.001\n",
      "  0.001 0.001 0.001 0.001 0.001 0.001 0.001 0.001 0.001 0.001 0.001 0.001\n",
      "  0.001 0.001 0.001 0.001]\n",
      " [0.    0.    0.    0.    0.    0.    0.    0.    0.    0.    0.    0.\n",
      "  0.    0.    0.    0.    0.    0.    0.    0.    0.    0.    0.    0.\n",
      "  0.    0.    0.    0.    0.    0.    0.    0.    0.    0.    0.    0.\n",
      "  0.    0.    0.    0.    0.    0.    0.    0.    0.    0.    0.    0.\n",
      "  0.    0.    0.    0.    0.    0.    0.    0.    0.    0.    0.    0.\n",
      "  0.    0.    0.    0.    0.    0.    0.    0.    0.    0.    0.    0.\n",
      "  0.    0.    0.    0.    0.    0.    0.    0.    0.    0.    0.    0.\n",
      "  0.    0.    0.    0.    0.    0.    0.    0.    0.    0.    0.    0.\n",
      "  0.    0.    0.    0.   ]]\n"
     ]
    }
   ],
   "source": [
    "x = np.linspace(-10,10,100)\n",
    "\n",
    "y_a = np.zeros((2, x.size))\n",
    "y_b = np.zeros((2, x.size))\n",
    "y_a[0] = 0.001\n",
    "y_b[0] = 0\n",
    "print(y_a)\n"
   ]
  },
  {
   "cell_type": "code",
   "execution_count": 11,
   "metadata": {},
   "outputs": [],
   "source": [
    "from scipy.integrate import solve_bvp\n",
    "res_a = solve_bvp(Schrodinger, bc, x, y_a)\n",
    "res_b = solve_bvp(Schrodinger, bc, x, y_b)"
   ]
  },
  {
   "cell_type": "code",
   "execution_count": 12,
   "metadata": {},
   "outputs": [
    {
     "data": {
      "image/png": "[encoded data removed]",
      "text/plain": [
       "<Figure size 432x288 with 1 Axes>"
      ]
     },
     "metadata": {
      "needs_background": "light"
     },
     "output_type": "display_data"
    }
   ],
   "source": [
    "x_plot = np.linspace(-10, 10, 100)\n",
    "y_plot_a = res_a.sol(x_plot)[0]\n",
    "y_plot_b = res_b.sol(x_plot)[0]\n",
    "import matplotlib.pyplot as plt\n",
    "plt.plot(x_plot, y_plot_a, label='y_a')\n",
    "plt.plot(x_plot, y_plot_b, label='y_b')\n",
    "plt.legend()\n",
    "plt.xlabel(\"x\")\n",
    "plt.ylabel(\"y\")\n",
    "plt.show()"
   ]
  },
  {
   "cell_type": "code",
   "execution_count": null,
   "metadata": {},
   "outputs": [],
   "source": []
  },
  {
   "cell_type": "code",
   "execution_count": 73,
   "metadata": {},
   "outputs": [],
   "source": [
    "psi0 = [0.001,0]\n",
    "#x ya definido"
   ]
  },
  {
   "cell_type": "code",
   "execution_count": 58,
   "metadata": {},
   "outputs": [
    {
     "ename": "ValueError",
     "evalue": "The values in t must be monotonically increasing or monotonically decreasing; repeated values are allowed.",
     "output_type": "error",
     "traceback": [
      "\u001b[0;31m---------------------------------------------------------------------------\u001b[0m",
      "\u001b[0;31mValueError\u001b[0m                                Traceback (most recent call last)",
      "\u001b[0;32m<ipython-input-58-499790a35ef2>\u001b[0m in \u001b[0;36m<module>\u001b[0;34m\u001b[0m\n\u001b[1;32m      1\u001b[0m \u001b[0;32mfrom\u001b[0m \u001b[0mscipy\u001b[0m\u001b[0;34m.\u001b[0m\u001b[0mintegrate\u001b[0m \u001b[0;32mimport\u001b[0m \u001b[0modeint\u001b[0m\u001b[0;34m\u001b[0m\u001b[0;34m\u001b[0m\u001b[0m\n\u001b[0;32m----> 2\u001b[0;31m \u001b[0msol\u001b[0m \u001b[0;34m=\u001b[0m \u001b[0modeint\u001b[0m\u001b[0;34m(\u001b[0m\u001b[0mSchrodinger\u001b[0m\u001b[0;34m,\u001b[0m \u001b[0mpsi0\u001b[0m\u001b[0;34m,\u001b[0m \u001b[0mx\u001b[0m\u001b[0;34m)\u001b[0m\u001b[0;34m\u001b[0m\u001b[0;34m\u001b[0m\u001b[0m\n\u001b[0m",
      "\u001b[0;32m~/.local/lib/python3.8/site-packages/scipy/integrate/odepack.py\u001b[0m in \u001b[0;36modeint\u001b[0;34m(func, y0, t, args, Dfun, col_deriv, full_output, ml, mu, rtol, atol, tcrit, h0, hmax, hmin, ixpr, mxstep, mxhnil, mxordn, mxords, printmessg, tfirst)\u001b[0m\n\u001b[1;32m    233\u001b[0m     \u001b[0mdt\u001b[0m \u001b[0;34m=\u001b[0m \u001b[0mnp\u001b[0m\u001b[0;34m.\u001b[0m\u001b[0mdiff\u001b[0m\u001b[0;34m(\u001b[0m\u001b[0mt\u001b[0m\u001b[0;34m)\u001b[0m\u001b[0;34m\u001b[0m\u001b[0;34m\u001b[0m\u001b[0m\n\u001b[1;32m    234\u001b[0m     \u001b[0;32mif\u001b[0m \u001b[0;32mnot\u001b[0m\u001b[0;34m(\u001b[0m\u001b[0;34m(\u001b[0m\u001b[0mdt\u001b[0m \u001b[0;34m>=\u001b[0m \u001b[0;36m0\u001b[0m\u001b[0;34m)\u001b[0m\u001b[0;34m.\u001b[0m\u001b[0mall\u001b[0m\u001b[0;34m(\u001b[0m\u001b[0;34m)\u001b[0m \u001b[0;32mor\u001b[0m \u001b[0;34m(\u001b[0m\u001b[0mdt\u001b[0m \u001b[0;34m<=\u001b[0m \u001b[0;36m0\u001b[0m\u001b[0;34m)\u001b[0m\u001b[0;34m.\u001b[0m\u001b[0mall\u001b[0m\u001b[0;34m(\u001b[0m\u001b[0;34m)\u001b[0m\u001b[0;34m)\u001b[0m\u001b[0;34m:\u001b[0m\u001b[0;34m\u001b[0m\u001b[0;34m\u001b[0m\u001b[0m\n\u001b[0;32m--> 235\u001b[0;31m         raise ValueError(\"The values in t must be monotonically increasing \"\n\u001b[0m\u001b[1;32m    236\u001b[0m                          \u001b[0;34m\"or monotonically decreasing; repeated values are \"\u001b[0m\u001b[0;34m\u001b[0m\u001b[0;34m\u001b[0m\u001b[0m\n\u001b[1;32m    237\u001b[0m                          \"allowed.\")\n",
      "\u001b[0;31mValueError\u001b[0m: The values in t must be monotonically increasing or monotonically decreasing; repeated values are allowed."
     ]
    }
   ],
   "source": [
    "from scipy.integrate import odeint\n",
    "sol = odeint(Schrodinger, psi0, x)"
   ]
  },
  {
   "cell_type": "code",
   "execution_count": null,
   "metadata": {},
   "outputs": [],
   "source": []
  },
  {
   "cell_type": "code",
   "execution_count": null,
   "metadata": {},
   "outputs": [],
   "source": []
  },
  {
   "cell_type": "code",
   "execution_count": null,
   "metadata": {},
   "outputs": [],
   "source": []
  },
  {
   "cell_type": "code",
   "execution_count": null,
   "metadata": {},
   "outputs": [],
   "source": []
  },
  {
   "cell_type": "code",
   "execution_count": null,
   "metadata": {},
   "outputs": [],
   "source": []
  },
  {
   "cell_type": "code",
   "execution_count": null,
   "metadata": {},
   "outputs": [],
   "source": []
  },
  {
   "cell_type": "code",
   "execution_count": null,
   "metadata": {},
   "outputs": [],
   "source": []
  },
  {
   "cell_type": "code",
   "execution_count": null,
   "metadata": {},
   "outputs": [],
   "source": []
  },
  {
   "cell_type": "code",
   "execution_count": 67,
   "metadata": {},
   "outputs": [
    {
     "data": {
      "image/png": "[encoded data removed]",
      "text/plain": [
       "<Figure size 432x288 with 1 Axes>"
      ]
     },
     "metadata": {
      "needs_background": "light"
     },
     "output_type": "display_data"
    }
   ],
   "source": [
    "#y'' + 1* exp(y) = 0\n",
    "#y(0) = y(1) = 0\n",
    "\n",
    "\n",
    "#y1' = y2\n",
    "#y2' = -exp(y1)\n",
    "\n",
    "def fun(x, y):\n",
    "    return np.vstack((y[1], -np.exp(y[0])))\n",
    "\n",
    "def bc(ya, yb):\n",
    "    return np.array([ya[0], yb[0]])\n",
    "\n",
    "\n",
    "x = np.linspace(0, 1, 5)\n",
    "y_a = np.zeros((2, x.size))\n",
    "y_b = np.zeros((2, x.size))\n",
    "y_b[0] = 3\n",
    "\n",
    "\n",
    "from scipy.integrate import solve_bvp\n",
    "res_a = solve_bvp(fun, bc, x, y_a)\n",
    "res_b = solve_bvp(fun, bc, x, y_b)\n",
    "\n",
    "x_plot = np.linspace(0, 1, 100)\n",
    "y_plot_a = res_a.sol(x_plot)[0]\n",
    "y_plot_b = res_b.sol(x_plot)[0]\n",
    "import matplotlib.pyplot as plt\n",
    "plt.plot(x_plot, y_plot_a, label='y_a')\n",
    "plt.plot(x_plot, y_plot_b, label='y_b')\n",
    "plt.legend()\n",
    "plt.xlabel(\"x\")\n",
    "plt.ylabel(\"y\")\n",
    "plt.show()\n"
   ]
  },
  {
   "cell_type": "code",
   "execution_count": null,
   "metadata": {},
   "outputs": [],
   "source": []
  },
  {
   "cell_type": "code",
   "execution_count": null,
   "metadata": {},
   "outputs": [],
   "source": []
  },
  {
   "cell_type": "code",
   "execution_count": null,
   "metadata": {},
   "outputs": [],
   "source": []
  }
 ],
 "metadata": {
  "kernelspec": {
   "display_name": "Python 3",
   "language": "python",
   "name": "python3"
  },
  "language_info": {
   "codemirror_mode": {
    "name": "ipython",
    "version": 3
   },
   "file_extension": ".py",
   "mimetype": "text/x-python",
   "name": "python",
   "nbconvert_exporter": "python",
   "pygments_lexer": "ipython3",
   "version": "3.8.5"
  }
 },
 "nbformat": 4,
 "nbformat_minor": 4
}
