{
 "cells": [
  {
   "cell_type": "code",
   "execution_count": 21,
   "metadata": {},
   "outputs": [],
   "source": [
    "import numpy as np\n",
    "import matplotlib.pyplot as plt\n",
    "import scipy\n",
    "import scipy.integrate as scp\n",
    "import numpy.linalg as nplin\n"
   ]
  },
  {
   "cell_type": "code",
   "execution_count": 32,
   "metadata": {},
   "outputs": [
    {
     "name": "stdout",
     "output_type": "stream",
     "text": [
      "[[0. 1. 0. 0. 0. 0. 0. 0. 0. 0.]\n",
      " [0. 2. 1. 0. 0. 0. 0. 0. 0. 0.]\n",
      " [0. 1. 2. 1. 0. 0. 0. 0. 0. 0.]\n",
      " [0. 0. 1. 2. 1. 0. 0. 0. 0. 0.]\n",
      " [0. 0. 0. 1. 2. 1. 0. 0. 0. 0.]\n",
      " [0. 0. 0. 0. 1. 2. 1. 0. 0. 0.]\n",
      " [0. 0. 0. 0. 0. 1. 2. 1. 0. 0.]\n",
      " [0. 0. 0. 0. 0. 0. 1. 2. 1. 0.]\n",
      " [0. 0. 0. 0. 0. 0. 0. 1. 2. 0.]\n",
      " [0. 0. 0. 0. 0. 0. 0. 0. 1. 0.]]\n",
      "\n",
      " [0.         0.         0.12061476 0.46791111 1.         3.87938524\n",
      " 3.53208889 1.65270364 3.         2.34729636]\n"
     ]
    }
   ],
   "source": [
    "# Cálculo de los autovalores por el método de Numerov\n",
    "\n",
    "N = 10\n",
    "V_0 = 4\n",
    "\n",
    "x = np.eye(N,N,1)\n",
    "y = np.eye(N,N,-1)\n",
    "z = -2*np.eye(N,N)\n",
    "w = V_0*np.eye(N,N)\n",
    "\n",
    "w = x+y+z+w\n",
    "w[:,0] = 0\n",
    "w[:,N-1] = 0\n",
    "\n",
    "print(w)\n",
    "\n",
    "print('\\n',nplin.eig(w)[0])"
   ]
  },
  {
   "cell_type": "code",
   "execution_count": null,
   "metadata": {},
   "outputs": [],
   "source": []
  },
  {
   "cell_type": "code",
   "execution_count": null,
   "metadata": {},
   "outputs": [],
   "source": []
  },
  {
   "cell_type": "code",
   "execution_count": null,
   "metadata": {},
   "outputs": [],
   "source": []
  },
  {
   "cell_type": "code",
   "execution_count": null,
   "metadata": {},
   "outputs": [],
   "source": []
  },
  {
   "cell_type": "code",
   "execution_count": null,
   "metadata": {},
   "outputs": [],
   "source": []
  }
 ],
 "metadata": {
  "kernelspec": {
   "display_name": "Python 3",
   "language": "python",
   "name": "python3"
  },
  "language_info": {
   "codemirror_mode": {
    "name": "ipython",
    "version": 3
   },
   "file_extension": ".py",
   "mimetype": "text/x-python",
   "name": "python",
   "nbconvert_exporter": "python",
   "pygments_lexer": "ipython3",
   "version": "3.8.5"
  }
 },
 "nbformat": 4,
 "nbformat_minor": 4
}
