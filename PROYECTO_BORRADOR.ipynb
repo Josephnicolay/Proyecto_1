{
 "cells": [
  {
   "cell_type": "code",
   "execution_count": 2,
   "metadata": {},
   "outputs": [],
   "source": [
    "import numpy as np\n",
    "import matplotlib.pyplot as plt\n",
    "import scipy\n",
    "import scipy.integrate as scp\n",
    "import numpy.linalg as nplin"
   ]
  },
  {
   "cell_type": "code",
   "execution_count": 25,
   "metadata": {},
   "outputs": [
    {
     "name": "stdout",
     "output_type": "stream",
     "text": [
      "\n",
      "Matríz a resolver autovalores:\n",
      "\n",
      " [[ 0.       1.       0.      ...  0.       0.       0.     ]\n",
      " [ 0.      94.00041  1.      ...  0.       0.       0.     ]\n",
      " [ 0.       1.      90.08244 ...  0.       0.       0.     ]\n",
      " ...\n",
      " [ 0.       0.       0.      ... 90.08244  1.       0.     ]\n",
      " [ 0.       0.       0.      ...  1.      94.00041  0.     ]\n",
      " [ 0.       0.       0.      ...  0.       1.       0.     ]]\n",
      "\n",
      "\n",
      " Autovalores de menor a mayor:\n",
      "\n",
      "  [-3.80056e+00 -3.40700e+00 -3.02430e+00 -2.65298e+00 -2.29363e+00\n",
      " -1.94699e+00 -1.61394e+00 -1.29562e+00 -9.93488e-01 -7.10086e-01\n",
      " -4.45456e-01 -2.26466e-01  0.00000e+00  0.00000e+00  3.28192e-02\n",
      "  9.76338e-02  5.29938e-01  5.32840e-01  1.12591e+00  1.12596e+00\n",
      "  1.82287e+00  1.82287e+00  2.61275e+00  2.61275e+00  3.49126e+00\n",
      "  3.49126e+00  4.45606e+00  4.45606e+00  5.50572e+00  5.50572e+00\n",
      "  6.63935e+00  6.63935e+00  7.85634e+00  7.85634e+00  9.15627e+00\n",
      "  9.15627e+00  1.05388e+01  1.05388e+01  1.20038e+01  1.20038e+01\n",
      "  1.35511e+01  1.35511e+01  1.51805e+01  1.51805e+01  1.68920e+01\n",
      "  1.68920e+01  1.86854e+01  1.86854e+01  2.05607e+01  2.05607e+01\n",
      "  2.25179e+01  2.25179e+01  2.45570e+01  2.45570e+01  2.66778e+01\n",
      "  2.66778e+01  2.88804e+01  2.88804e+01  3.11648e+01  3.11648e+01\n",
      "  3.35309e+01  3.35309e+01  3.59787e+01  3.59787e+01  3.85082e+01\n",
      "  3.85082e+01  4.11194e+01  4.11194e+01  4.38124e+01  4.38124e+01\n",
      "  4.65870e+01  4.65870e+01  4.94433e+01  4.94433e+01  5.23812e+01\n",
      "  5.23812e+01  5.54008e+01  5.54008e+01  5.85021e+01  5.85021e+01\n",
      "  6.16850e+01  6.16850e+01  6.49496e+01  6.49496e+01  6.82959e+01\n",
      "  6.82959e+01  7.17238e+01  7.17238e+01  7.52333e+01  7.52333e+01\n",
      "  7.88245e+01  7.88245e+01  8.24973e+01  8.24973e+01  8.62519e+01\n",
      "  8.62519e+01  9.00954e+01  9.00954e+01  9.42480e+01  9.42480e+01]\n",
      "\n",
      "\n",
      "Los cuatro primeros autovalores son:\n",
      "\n",
      " [0.03282 0.09763 0.52994 0.53284]\n"
     ]
    }
   ],
   "source": [
    "# Cálculo de los autovalores por el método de Numerov\n",
    "\n",
    "# Arreglo de puntos sobre el eje x en donde se calcula la solución. Discretización del espacio.\n",
    "x = np.linspace(-10,10,100)\n",
    "N = len(x)\n",
    "\n",
    "# Potencial\n",
    "V_0 = x**2\n",
    "\n",
    "# Método Numerov\n",
    "x = np.eye(N,N,1)\n",
    "y = np.eye(N,N,-1)\n",
    "z = -2*np.eye(N,N)\n",
    "w = V_0*np.eye(N,N)\n",
    "w = x+y+z+w\n",
    "\n",
    "# Se considera la condición de frontera en la función de onda en el infinito\n",
    "w[:,0] = 0\n",
    "w[:,N-1] = 0\n",
    "\n",
    "# Matríz a resolver autovalores\n",
    "np.set_printoptions(precision = 5)\n",
    "print(\"\\nMatríz a resolver autovalores:\\n\\n\",w)\n",
    "\n",
    "# Arreglo de autovalores\n",
    "eigval = np.sort(nplin.eig(w)[0]) \n",
    "print('\\n\\n Autovalores de menor a mayor:\\n\\n ',eigval)\n",
    "\n",
    "\n",
    "# Considerando solamente los 4 positivos más pequeños\n",
    "eigval4 = []\n",
    "\n",
    "for i in eigval:\n",
    "    if i>0:\n",
    "        eigval4.append(i)\n",
    "        \n",
    "    if len(eigval4) == 4:\n",
    "        eigval4 = np.array(eigval4)\n",
    "        break\n",
    "\n",
    "print(\"\\n\\nLos cuatro primeros autovalores son:\\n\\n\", eigval4)\n",
    "\n",
    "\n",
    "\n"
   ]
  },
  {
   "cell_type": "code",
   "execution_count": null,
   "metadata": {},
   "outputs": [],
   "source": []
  },
  {
   "cell_type": "code",
   "execution_count": null,
   "metadata": {},
   "outputs": [],
   "source": []
  },
  {
   "cell_type": "code",
   "execution_count": null,
   "metadata": {},
   "outputs": [],
   "source": []
  },
  {
   "cell_type": "code",
   "execution_count": null,
   "metadata": {},
   "outputs": [],
   "source": []
  },
  {
   "cell_type": "code",
   "execution_count": null,
   "metadata": {},
   "outputs": [],
   "source": []
  }
 ],
 "metadata": {
  "kernelspec": {
   "display_name": "Python 3",
   "language": "python",
   "name": "python3"
  },
  "language_info": {
   "codemirror_mode": {
    "name": "ipython",
    "version": 3
   },
   "file_extension": ".py",
   "mimetype": "text/x-python",
   "name": "python",
   "nbconvert_exporter": "python",
   "pygments_lexer": "ipython3",
   "version": "3.8.5"
  }
 },
 "nbformat": 4,
 "nbformat_minor": 4
}
