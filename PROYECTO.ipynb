{
 "cells": [
  {
   "cell_type": "code",
   "execution_count": 110,
   "metadata": {},
   "outputs": [],
   "source": [
    "import numpy as np\n",
    "import matplotlib.pyplot as plt\n",
    "import scipy\n",
    "import scipy.integrate as scp\n",
    "import numpy.linalg as nplin\n",
    "from scipy.integrate import solve_bvp"
   ]
  },
  {
   "cell_type": "code",
   "execution_count": 134,
   "metadata": {},
   "outputs": [
    {
     "name": "stdout",
     "output_type": "stream",
     "text": [
      "\n",
      "Matríz a resolver autovalores:\n",
      "\n",
      " [[ 0.0000e+000 -1.2092e-042  1.2215e-043 ... -8.8464e-238  8.9358e-239\n",
      "   0.0000e+000]\n",
      " [ 0.0000e+000  9.8000e+001 -1.2215e-042 ...  8.8464e-237 -8.9358e-238\n",
      "   0.0000e+000]\n",
      " [ 0.0000e+000 -1.2215e-042  9.6020e+001 ... -8.7580e-236  8.8464e-237\n",
      "   0.0000e+000]\n",
      " ...\n",
      " [ 0.0000e+000  8.8464e-237 -8.7580e-236 ...  9.6020e+001 -1.2215e-042\n",
      "   0.0000e+000]\n",
      " [ 0.0000e+000 -8.9358e-238  8.8464e-237 ... -1.2215e-042  9.8000e+001\n",
      "   0.0000e+000]\n",
      " [ 0.0000e+000  8.9358e-239 -8.8464e-238 ...  1.2215e-043 -1.2092e-042\n",
      "   0.0000e+000]]\n",
      "\n",
      "\n",
      " Autovalores de menor a mayor:\n",
      "\n",
      "  [0.0000e+00 0.0000e+00 2.5252e-03 2.5252e-03 2.2727e-02 2.2727e-02\n",
      " 6.3130e-02 6.3130e-02 1.2373e-01 1.2373e-01 2.0454e-01 2.0454e-01\n",
      " 3.0555e-01 3.0555e-01 4.2676e-01 4.2676e-01 5.6817e-01 5.6817e-01\n",
      " 7.2978e-01 7.2978e-01 9.1159e-01 9.1159e-01 1.1136e+00 1.1136e+00\n",
      " 1.3358e+00 1.3358e+00 1.5782e+00 1.5782e+00 1.8409e+00 1.8409e+00\n",
      " 2.1237e+00 2.1237e+00 2.4267e+00 2.4267e+00 2.7499e+00 2.7499e+00\n",
      " 3.0934e+00 3.0934e+00 3.4570e+00 3.4570e+00 3.8408e+00 3.8408e+00\n",
      " 4.2448e+00 4.2448e+00 4.6691e+00 4.6691e+00 5.1135e+00 5.1135e+00\n",
      " 5.5781e+00 5.5781e+00 6.0630e+00 6.0630e+00 6.5680e+00 6.5680e+00\n",
      " 7.0933e+00 7.0933e+00 7.6387e+00 7.6387e+00 8.2043e+00 8.2043e+00\n",
      " 8.7902e+00 8.7902e+00 9.3962e+00 9.3962e+00 1.0022e+01 1.0022e+01\n",
      " 1.0669e+01 1.0669e+01 1.1336e+01 1.1336e+01 1.2022e+01 1.2022e+01\n",
      " 1.2729e+01 1.2729e+01 1.3457e+01 1.3457e+01 1.4204e+01 1.4204e+01\n",
      " 1.4972e+01 1.4972e+01 1.5760e+01 1.5760e+01 1.6568e+01 1.6568e+01\n",
      " 1.7396e+01 1.7396e+01 1.8244e+01 1.8244e+01 1.9113e+01 1.9113e+01\n",
      " 2.0002e+01 2.0002e+01 2.0911e+01 2.0911e+01 2.1840e+01 2.1840e+01\n",
      " 2.2790e+01 2.2790e+01 2.3760e+01 2.3760e+01 2.4749e+01 2.4749e+01\n",
      " 2.5759e+01 2.5759e+01 2.6790e+01 2.6790e+01 2.7840e+01 2.7840e+01\n",
      " 2.8911e+01 2.8911e+01 3.0002e+01 3.0002e+01 3.1113e+01 3.1113e+01\n",
      " 3.2244e+01 3.2244e+01 3.3396e+01 3.3396e+01 3.4567e+01 3.4567e+01\n",
      " 3.5759e+01 3.5759e+01 3.6971e+01 3.6971e+01 3.8204e+01 3.8204e+01\n",
      " 3.9456e+01 3.9456e+01 4.0729e+01 4.0729e+01 4.2022e+01 4.2022e+01\n",
      " 4.3335e+01 4.3335e+01 4.4668e+01 4.4668e+01 4.6022e+01 4.6022e+01\n",
      " 4.7395e+01 4.7395e+01 4.8789e+01 4.8789e+01 5.0203e+01 5.0203e+01\n",
      " 5.1638e+01 5.1638e+01 5.3092e+01 5.3092e+01 5.4567e+01 5.4567e+01\n",
      " 5.6062e+01 5.6062e+01 5.7577e+01 5.7577e+01 5.9112e+01 5.9112e+01\n",
      " 6.0668e+01 6.0668e+01 6.2243e+01 6.2243e+01 6.3839e+01 6.3839e+01\n",
      " 6.5455e+01 6.5455e+01 6.7092e+01 6.7092e+01 6.8748e+01 6.8748e+01\n",
      " 7.0425e+01 7.0425e+01 7.2122e+01 7.2122e+01 7.3839e+01 7.3839e+01\n",
      " 7.5576e+01 7.5576e+01 7.7334e+01 7.7334e+01 7.9112e+01 7.9112e+01\n",
      " 8.0910e+01 8.0910e+01 8.2728e+01 8.2728e+01 8.4566e+01 8.4566e+01\n",
      " 8.6425e+01 8.6425e+01 8.8303e+01 8.8303e+01 9.0202e+01 9.0202e+01\n",
      " 9.2121e+01 9.2121e+01 9.4061e+01 9.4061e+01 9.6020e+01 9.6020e+01\n",
      " 9.8000e+01 9.8000e+01]\n",
      "\n",
      "\n",
      "Los cuatro primeros autovalores son:\n",
      "\n",
      " [0.0025 0.0227 0.0631 0.1237]\n"
     ]
    }
   ],
   "source": [
    "# Cálculo de los autovalores por el método de Numerov\n",
    "\n",
    "# Arreglo de puntos sobre el eje x en donde se calcula la solución. Discretización del espacio.\n",
    "xarray = np.linspace(-10,10,200)\n",
    "N = len(xarray)\n",
    "L = xarray[len(xarray)-1]- xarray[0] \n",
    "l = 20/(N-1)\n",
    "\n",
    "# Constantes\n",
    "h = 1.054571628*10**(-34) \n",
    "m = 1.6726219*10**(-27)\n",
    "gamma2 = (2*m*L**2)/h**2\n",
    "\n",
    "# Potencial\n",
    "V_0 = xarray**2          # Evaluar la función en el arreglo xarray#################################\n",
    "\n",
    "# Método Numerov\n",
    "A = np.eye(N,N,1) + np.eye(N,N,-1) - 2*np.eye(N,N)\n",
    "V = V_0*np.eye(N,N)\n",
    "B = np.linalg.inv((1/12)*(np.eye(N,N,1) + np.eye(N,N,-1) + 10*np.eye(N,N)))\n",
    "W = -1/(gamma2*l**2)*np.matmul(B,A) + V\n",
    "\n",
    "# Se considera la condición de frontera en la función de onda en el infinito\n",
    "W[:,0] = 0\n",
    "W[:,N-1] = 0\n",
    "\n",
    "# Matríz a resolver autovalores\n",
    "np.set_printoptions(precision = 4)\n",
    "print(\"\\nMatríz a resolver autovalores:\\n\\n\", W)\n",
    "\n",
    "# Arreglo de autovalores\n",
    "eigval = np.sort(nplin.eig(W)[0]) \n",
    "print('\\n\\n Autovalores de menor a mayor:\\n\\n ',eigval)\n",
    "\n",
    "\n",
    "# Considerando solamente los 4 positivos más pequeños\n",
    "eigval4 = []\n",
    "\n",
    "for i in range(0,len(eigval)):\n",
    "    if eigval[2*i]>0:\n",
    "        eigval4.append(eigval[2*i])\n",
    "        \n",
    "    if len(eigval4) == 4:\n",
    "        eigval4 = np.array(eigval4)\n",
    "        break\n",
    "\n",
    "print(\"\\n\\nLos cuatro primeros autovalores son:\\n\\n\", eigval4)"
   ]
  },
  {
   "cell_type": "code",
   "execution_count": 135,
   "metadata": {},
   "outputs": [],
   "source": [
    "# Coordenada normalizada\n",
    "xarray = xarray/10\n",
    "\n",
    "# Ecuación de Schrödinger como un sistema lineal\n",
    "def SchrodingerOscilador(x,y):                                    ### ojooooo   constantesss\n",
    "    return np.vstack([y[1], -gamma2*(eigval4[0] - x**2)*y[0]])       ###   ojoooo  con el autovalor de energía\n",
    "\n",
    "# Función de condiciones de frontera.\n",
    "def bc(ya, yb):\n",
    "    return np.array([ya[0], yb[0]])"
   ]
  },
  {
   "cell_type": "code",
   "execution_count": 136,
   "metadata": {},
   "outputs": [],
   "source": [
    "y = np.zeros((2, xarray.size))\n",
    "#print(y)"
   ]
  },
  {
   "cell_type": "code",
   "execution_count": 137,
   "metadata": {},
   "outputs": [],
   "source": [
    "sol = solve_bvp(SchrodingerOscilador, bc, xarray, y)"
   ]
  },
  {
   "cell_type": "code",
   "execution_count": 138,
   "metadata": {},
   "outputs": [
    {
     "data": {
      "image/png": "[encoded data removed]",
      "text/plain": [
       "<Figure size 864x504 with 1 Axes>"
      ]
     },
     "metadata": {
      "needs_background": "light"
     },
     "output_type": "display_data"
    }
   ],
   "source": [
    "\n",
    "x_plot = xarray\n",
    "psi_plot = sol.sol(x_plot)[0]\n",
    "#print(psi_plot)\n",
    "#print(x_plot)\n",
    "\n",
    "fig = plt.figure(figsize = (12,7))    \n",
    "\n",
    "plt.plot(x_plot, psi_plot,label='$\\psi$')\n",
    "#plt.plot(x_plot, x_plot**2,label='x²')\n",
    "\n",
    "plt.legend()\n",
    "plt.xlabel(\"x\")\n",
    "plt.ylabel(\"$\\psi$\")\n",
    "plt.show()"
   ]
  },
  {
   "cell_type": "code",
   "execution_count": null,
   "metadata": {},
   "outputs": [],
   "source": []
  },
  {
   "cell_type": "code",
   "execution_count": null,
   "metadata": {},
   "outputs": [],
   "source": []
  },
  {
   "cell_type": "code",
   "execution_count": null,
   "metadata": {},
   "outputs": [],
   "source": []
  }
 ],
 "metadata": {
  "kernelspec": {
   "display_name": "Python 3",
   "language": "python",
   "name": "python3"
  },
  "language_info": {
   "codemirror_mode": {
    "name": "ipython",
    "version": 3
   },
   "file_extension": ".py",
   "mimetype": "text/x-python",
   "name": "python",
   "nbconvert_exporter": "python",
   "pygments_lexer": "ipython3",
   "version": "3.8.5"
  }
 },
 "nbformat": 4,
 "nbformat_minor": 4
}
